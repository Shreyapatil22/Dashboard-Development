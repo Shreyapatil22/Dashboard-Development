{
 "cells": [
  {
   "cell_type": "code",
   "execution_count": 11,
   "id": "784f7125-2e36-4c08-8dee-588cc05623d9",
   "metadata": {},
   "outputs": [
    {
     "name": "stdout",
     "output_type": "stream",
     "text": [
      "Requirement already satisfied: dash in c:\\users\\sanja\\anaconda3\\lib\\site-packages (2.18.2)Note: you may need to restart the kernel to use updated packages.\n",
      "\n",
      "Requirement already satisfied: pandas in c:\\users\\sanja\\anaconda3\\lib\\site-packages (2.2.2)\n",
      "Requirement already satisfied: plotly in c:\\users\\sanja\\anaconda3\\lib\\site-packages (5.24.1)\n",
      "Requirement already satisfied: Flask<3.1,>=1.0.4 in c:\\users\\sanja\\anaconda3\\lib\\site-packages (from dash) (3.0.3)\n",
      "Requirement already satisfied: Werkzeug<3.1 in c:\\users\\sanja\\anaconda3\\lib\\site-packages (from dash) (3.0.3)\n",
      "Requirement already satisfied: dash-html-components==2.0.0 in c:\\users\\sanja\\anaconda3\\lib\\site-packages (from dash) (2.0.0)\n",
      "Requirement already satisfied: dash-core-components==2.0.0 in c:\\users\\sanja\\anaconda3\\lib\\site-packages (from dash) (2.0.0)\n",
      "Requirement already satisfied: dash-table==5.0.0 in c:\\users\\sanja\\anaconda3\\lib\\site-packages (from dash) (5.0.0)\n",
      "Requirement already satisfied: importlib-metadata in c:\\users\\sanja\\anaconda3\\lib\\site-packages (from dash) (7.0.1)\n",
      "Requirement already satisfied: typing-extensions>=4.1.1 in c:\\users\\sanja\\anaconda3\\lib\\site-packages (from dash) (4.11.0)\n",
      "Requirement already satisfied: requests in c:\\users\\sanja\\anaconda3\\lib\\site-packages (from dash) (2.32.3)\n",
      "Requirement already satisfied: retrying in c:\\users\\sanja\\anaconda3\\lib\\site-packages (from dash) (1.3.4)\n",
      "Requirement already satisfied: nest-asyncio in c:\\users\\sanja\\anaconda3\\lib\\site-packages (from dash) (1.6.0)\n",
      "Requirement already satisfied: setuptools in c:\\users\\sanja\\anaconda3\\lib\\site-packages (from dash) (75.1.0)\n",
      "Requirement already satisfied: numpy>=1.26.0 in c:\\users\\sanja\\anaconda3\\lib\\site-packages (from pandas) (1.26.4)\n",
      "Requirement already satisfied: python-dateutil>=2.8.2 in c:\\users\\sanja\\anaconda3\\lib\\site-packages (from pandas) (2.9.0.post0)\n",
      "Requirement already satisfied: pytz>=2020.1 in c:\\users\\sanja\\anaconda3\\lib\\site-packages (from pandas) (2024.1)\n",
      "Requirement already satisfied: tzdata>=2022.7 in c:\\users\\sanja\\anaconda3\\lib\\site-packages (from pandas) (2023.3)\n",
      "Requirement already satisfied: tenacity>=6.2.0 in c:\\users\\sanja\\anaconda3\\lib\\site-packages (from plotly) (8.2.3)\n",
      "Requirement already satisfied: packaging in c:\\users\\sanja\\anaconda3\\lib\\site-packages (from plotly) (24.1)\n",
      "Requirement already satisfied: Jinja2>=3.1.2 in c:\\users\\sanja\\anaconda3\\lib\\site-packages (from Flask<3.1,>=1.0.4->dash) (3.1.4)\n",
      "Requirement already satisfied: itsdangerous>=2.1.2 in c:\\users\\sanja\\anaconda3\\lib\\site-packages (from Flask<3.1,>=1.0.4->dash) (2.2.0)\n",
      "Requirement already satisfied: click>=8.1.3 in c:\\users\\sanja\\anaconda3\\lib\\site-packages (from Flask<3.1,>=1.0.4->dash) (8.1.7)\n",
      "Requirement already satisfied: blinker>=1.6.2 in c:\\users\\sanja\\anaconda3\\lib\\site-packages (from Flask<3.1,>=1.0.4->dash) (1.6.2)\n",
      "Requirement already satisfied: six>=1.5 in c:\\users\\sanja\\anaconda3\\lib\\site-packages (from python-dateutil>=2.8.2->pandas) (1.16.0)\n",
      "Requirement already satisfied: MarkupSafe>=2.1.1 in c:\\users\\sanja\\anaconda3\\lib\\site-packages (from Werkzeug<3.1->dash) (2.1.3)\n",
      "Requirement already satisfied: zipp>=0.5 in c:\\users\\sanja\\anaconda3\\lib\\site-packages (from importlib-metadata->dash) (3.17.0)\n",
      "Requirement already satisfied: charset-normalizer<4,>=2 in c:\\users\\sanja\\anaconda3\\lib\\site-packages (from requests->dash) (3.3.2)\n",
      "Requirement already satisfied: idna<4,>=2.5 in c:\\users\\sanja\\anaconda3\\lib\\site-packages (from requests->dash) (3.7)\n",
      "Requirement already satisfied: urllib3<3,>=1.21.1 in c:\\users\\sanja\\anaconda3\\lib\\site-packages (from requests->dash) (2.2.3)\n",
      "Requirement already satisfied: certifi>=2017.4.17 in c:\\users\\sanja\\anaconda3\\lib\\site-packages (from requests->dash) (2024.8.30)\n",
      "Requirement already satisfied: colorama in c:\\users\\sanja\\anaconda3\\lib\\site-packages (from click>=8.1.3->Flask<3.1,>=1.0.4->dash) (0.4.6)\n"
     ]
    }
   ],
   "source": [
    "pip install dash pandas plotly"
   ]
  },
  {
   "cell_type": "code",
   "execution_count": 22,
   "id": "0adb7441-0c6a-4c59-8c58-f87a144beb4a",
   "metadata": {},
   "outputs": [
    {
     "data": {
      "text/html": [
       "\n",
       "        <iframe\n",
       "            width=\"100%\"\n",
       "            height=\"650\"\n",
       "            src=\"http://127.0.0.1:8050/\"\n",
       "            frameborder=\"0\"\n",
       "            allowfullscreen\n",
       "            \n",
       "        ></iframe>\n",
       "        "
      ],
      "text/plain": [
       "<IPython.lib.display.IFrame at 0x1acd73cb290>"
      ]
     },
     "metadata": {},
     "output_type": "display_data"
    }
   ],
   "source": [
    "#Import necessary libraries\n",
    "import dash\n",
    "import pandas as pd\n",
    "import plotly.express as px\n",
    "from dash import Dash, dcc, html, Input, Output\n",
    "\n",
    "# Load dataset from csv file\n",
    "df = pd.read_csv(\"data.csv\")\n",
    "\n",
    "# Initialize Dash app\n",
    "app = Dash()\n",
    "\n",
    "# Define the layout\n",
    "app.layout = html.Div([\n",
    "    #Dashboard title\n",
    "    html.H1(\"Sales Dashboard\",\n",
    "            style={\"textAlign\": \"center\"}),\n",
    "\n",
    "    #Dropdown to select a region\n",
    "    dcc.Dropdown(\n",
    "        id=\"region-filter\",\n",
    "        options=[{\"label\": region, \"value\": region} for region in df[\"Region\"].unique()],\n",
    "        #Dropdown options\n",
    "        value=df[\"Region\"].unique()[0],\n",
    "        clearable=False\n",
    "    ),\n",
    "\n",
    "    #Graph to show sales trend\n",
    "    dcc.Graph(id=\"sales-trend\"),\n",
    "\n",
    "    #Graph to show sales distribution\n",
    "    dcc.Graph(id=\"sales-distribution\"),\n",
    "])\n",
    "\n",
    "# Define the callback function for interactivity\n",
    "@app.callback(\n",
    "    Output(\"sales-trend\", \"figure\"),\n",
    "    Output(\"sales-distribution\", \"figure\"),\n",
    "    Input(\"region-filter\", \"value\")\n",
    ")\n",
    "def update_charts(selected_region):\n",
    "    filtered_df = df[df[\"Region\"] == selected_region]\n",
    "\n",
    "    #Create a line chart for sales trend\n",
    "    trend_fig = px.line(filtered_df, x=\"Date\", y=\"Sales\", title=\"Sales Trend\")\n",
    "\n",
    "    #Create a histogram for sales distribution\n",
    "    distribution_fig = px.histogram(filtered_df, x=\"Sales\", title=\"Sales Distribution\")\n",
    "\n",
    "    #Return updated figures\n",
    "    return trend_fig, distribution_fig\n",
    "\n",
    "# Run the app inside Jupyter Notebook\n",
    "app.run_server(mode=\"inline\")"
   ]
  },
  {
   "cell_type": "code",
   "execution_count": null,
   "id": "6a02b526-1655-4868-9348-33949bd9980c",
   "metadata": {},
   "outputs": [],
   "source": []
  }
 ],
 "metadata": {
  "kernelspec": {
   "display_name": "Python 3 (ipykernel)",
   "language": "python",
   "name": "python3"
  },
  "language_info": {
   "codemirror_mode": {
    "name": "ipython",
    "version": 3
   },
   "file_extension": ".py",
   "mimetype": "text/x-python",
   "name": "python",
   "nbconvert_exporter": "python",
   "pygments_lexer": "ipython3",
   "version": "3.12.7"
  }
 },
 "nbformat": 4,
 "nbformat_minor": 5
}
